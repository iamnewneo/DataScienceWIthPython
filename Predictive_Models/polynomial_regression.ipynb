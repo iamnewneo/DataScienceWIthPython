{
 "cells": [
  {
   "cell_type": "code",
   "execution_count": 3,
   "metadata": {
    "collapsed": true
   },
   "outputs": [],
   "source": [
    "%matplotlib inline\n",
    "import numpy as np\n",
    "import matplotlib.pyplot as plt"
   ]
  },
  {
   "cell_type": "code",
   "execution_count": 2,
   "metadata": {
    "collapsed": true
   },
   "outputs": [],
   "source": [
    "np.random.seed(2)\n",
    "pageSpeeds = np.random.normal(3.0,1.0,1000)\n",
    "purchaseAmount = np.random.normal(50,10,1000)/pageSpeeds"
   ]
  },
  {
   "cell_type": "code",
   "execution_count": 4,
   "metadata": {
    "collapsed": false
   },
   "outputs": [
    {
     "data": {
      "text/plain": [
       "<matplotlib.collections.PathCollection at 0x7fbef3a0b5f8>"
      ]
     },
     "execution_count": 4,
     "metadata": {},
     "output_type": "execute_result"
    },
    {
     "data": {
      "image/png": "[encoded data removed]",
      "text/plain": [
       "<matplotlib.figure.Figure at 0x7fbf12db16a0>"
      ]
     },
     "metadata": {},
     "output_type": "display_data"
    }
   ],
   "source": [
    "plt.scatter(pageSpeeds,purchaseAmount)"
   ]
  },
  {
   "cell_type": "code",
   "execution_count": 35,
   "metadata": {
    "collapsed": false
   },
   "outputs": [],
   "source": [
    "x = np.array(pageSpeeds)\n",
    "y = np.array(purchaseAmount)\n",
    "p4 = np.poly1d(np.polyfit(x,y,2)) #this returns the polynomial"
   ]
  },
  {
   "cell_type": "code",
   "execution_count": 36,
   "metadata": {
    "collapsed": false
   },
   "outputs": [
    {
     "data": {
      "image/png": "[encoded data removed]",
      "text/plain": [
       "<matplotlib.figure.Figure at 0x7fbeec08c978>"
      ]
     },
     "metadata": {},
     "output_type": "display_data"
    }
   ],
   "source": [
    "plt.scatter(x,y)\n",
    "xp = np.linspace(0,7,100)\n",
    "plt.plot(xp, p4(xp), c='r') #p4(xp) return the value for that polynomial\n",
    "plt.show()"
   ]
  },
  {
   "cell_type": "code",
   "execution_count": 37,
   "metadata": {
    "collapsed": false
   },
   "outputs": [
    {
     "data": {
      "text/plain": [
       "poly1d([  3.73263241, -31.78596189,  77.53159067])"
      ]
     },
     "execution_count": 37,
     "metadata": {},
     "output_type": "execute_result"
    }
   ],
   "source": [
    "p4"
   ]
  },
  {
   "cell_type": "code",
   "execution_count": 38,
   "metadata": {
    "collapsed": false
   },
   "outputs": [
    {
     "data": {
      "text/plain": [
       "array([ 0.        ,  0.07070707,  0.14141414,  0.21212121,  0.28282828,\n",
       "        0.35353535,  0.42424242,  0.49494949,  0.56565657,  0.63636364,\n",
       "        0.70707071,  0.77777778,  0.84848485,  0.91919192,  0.98989899,\n",
       "        1.06060606,  1.13131313,  1.2020202 ,  1.27272727,  1.34343434,\n",
       "        1.41414141,  1.48484848,  1.55555556,  1.62626263,  1.6969697 ,\n",
       "        1.76767677,  1.83838384,  1.90909091,  1.97979798,  2.05050505,\n",
       "        2.12121212,  2.19191919,  2.26262626,  2.33333333,  2.4040404 ,\n",
       "        2.47474747,  2.54545455,  2.61616162,  2.68686869,  2.75757576,\n",
       "        2.82828283,  2.8989899 ,  2.96969697,  3.04040404,  3.11111111,\n",
       "        3.18181818,  3.25252525,  3.32323232,  3.39393939,  3.46464646,\n",
       "        3.53535354,  3.60606061,  3.67676768,  3.74747475,  3.81818182,\n",
       "        3.88888889,  3.95959596,  4.03030303,  4.1010101 ,  4.17171717,\n",
       "        4.24242424,  4.31313131,  4.38383838,  4.45454545,  4.52525253,\n",
       "        4.5959596 ,  4.66666667,  4.73737374,  4.80808081,  4.87878788,\n",
       "        4.94949495,  5.02020202,  5.09090909,  5.16161616,  5.23232323,\n",
       "        5.3030303 ,  5.37373737,  5.44444444,  5.51515152,  5.58585859,\n",
       "        5.65656566,  5.72727273,  5.7979798 ,  5.86868687,  5.93939394,\n",
       "        6.01010101,  6.08080808,  6.15151515,  6.22222222,  6.29292929,\n",
       "        6.36363636,  6.43434343,  6.50505051,  6.57575758,  6.64646465,\n",
       "        6.71717172,  6.78787879,  6.85858586,  6.92929293,  7.        ])"
      ]
     },
     "execution_count": 38,
     "metadata": {},
     "output_type": "execute_result"
    }
   ],
   "source": [
    "xp"
   ]
  },
  {
   "cell_type": "code",
   "execution_count": 39,
   "metadata": {
    "collapsed": false
   },
   "outputs": [
    {
     "data": {
      "text/plain": [
       "array([ 77.53159067,  75.30275967,  73.11125119,  70.95706523,\n",
       "        68.84020178,  66.76066084,  64.71844242,  62.71354652,\n",
       "        60.74597313,  58.81572226,  56.9227939 ,  55.06718806,\n",
       "        53.24890474,  51.46794393,  49.72430563,  48.01798986,\n",
       "        46.34899659,  44.71732585,  43.12297762,  41.5659519 ,\n",
       "        40.0462487 ,  38.56386802,  37.11880985,  35.71107419,\n",
       "        34.34066106,  33.00757043,  31.71180233,  30.45335674,\n",
       "        29.23223366,  28.0484331 ,  26.90195506,  25.79279953,\n",
       "        24.72096652,  23.68645602,  22.68926804,  21.72940257,\n",
       "        20.80685962,  19.92163919,  19.07374127,  18.26316587,\n",
       "        17.48991298,  16.75398261,  16.05537475,  15.39408941,\n",
       "        14.77012659,  14.18348628,  13.63416848,  13.12217321,\n",
       "        12.64750044,  12.2101502 ,  11.81012247,  11.44741725,\n",
       "        11.12203455,  10.83397437,  10.5832367 ,  10.36982155,\n",
       "        10.19372891,  10.05495879,   9.95351118,   9.88938609,\n",
       "         9.86258351,   9.87310346,   9.92094591,  10.00611088,\n",
       "        10.12859837,  10.28840838,  10.48554089,  10.71999593,\n",
       "        10.99177348,  11.30087354,  11.64729613,  12.03104122,\n",
       "        12.45210884,  12.91049896,  13.40621161,  13.93924677,\n",
       "        14.50960444,  15.11728463,  15.76228734,  16.44461256,\n",
       "        17.1642603 ,  17.92123055,  18.71552332,  19.54713861,\n",
       "        20.41607641,  21.32233672,  22.26591956,  23.2468249 ,\n",
       "        24.26505277,  25.32060314,  26.41347604,  27.54367145,\n",
       "        28.71118937,  29.91602981,  31.15819277,  32.43767824,\n",
       "        33.75448623,  35.10861673,  36.50006975,  37.92884529])"
      ]
     },
     "execution_count": 39,
     "metadata": {},
     "output_type": "execute_result"
    }
   ],
   "source": [
    "p4(xp)"
   ]
  },
  {
   "cell_type": "code",
   "execution_count": 40,
   "metadata": {
    "collapsed": false
   },
   "outputs": [
    {
     "data": {
      "text/plain": [
       "0.69274463505358919"
      ]
     },
     "execution_count": 40,
     "metadata": {},
     "output_type": "execute_result"
    }
   ],
   "source": [
    "from sklearn.metrics import r2_score\n",
    "r2 = r2_score(y,p4(x))\n",
    "r2"
   ]
  },
  {
   "cell_type": "code",
   "execution_count": null,
   "metadata": {
    "collapsed": true
   },
   "outputs": [],
   "source": []
  },
  {
   "cell_type": "code",
   "execution_count": null,
   "metadata": {
    "collapsed": true
   },
   "outputs": [],
   "source": []
  }
 ],
 "metadata": {
  "kernelspec": {
   "display_name": "Python 3",
   "language": "python",
   "name": "python3"
  },
  "language_info": {
   "codemirror_mode": {
    "name": "ipython",
    "version": 3
   },
   "file_extension": ".py",
   "mimetype": "text/x-python",
   "name": "python",
   "nbconvert_exporter": "python",
   "pygments_lexer": "ipython3",
   "version": "3.5.1"
  }
 },
 "nbformat": 4,
 "nbformat_minor": 0
}
