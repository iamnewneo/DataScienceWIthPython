{
 "cells": [
  {
   "cell_type": "code",
   "execution_count": 1,
   "metadata": {
    "collapsed": false
   },
   "outputs": [
    {
     "data": {
      "text/plain": [
       "26961.008964085529"
      ]
     },
     "execution_count": 1,
     "metadata": {},
     "output_type": "execute_result"
    }
   ],
   "source": [
    "import numpy as np\n",
    "income = np.random.normal(27000,15000,10000)\n",
    "np.mean(income)"
   ]
  },
  {
   "cell_type": "code",
   "execution_count": 5,
   "metadata": {
    "collapsed": false
   },
   "outputs": [
    {
     "data": {
      "image/png": "[encoded data removed]",
      "text/plain": [
       "<matplotlib.figure.Figure at 0x7f417420c160>"
      ]
     },
     "metadata": {},
     "output_type": "display_data"
    }
   ],
   "source": [
    "import matplotlib.pyplot as plt\n",
    "%matplotlib inline\n",
    "plt.hist(income,50)\n",
    "plt.show()"
   ]
  },
  {
   "cell_type": "code",
   "execution_count": 6,
   "metadata": {
    "collapsed": false
   },
   "outputs": [
    {
     "data": {
      "text/plain": [
       "26940.160168376875"
      ]
     },
     "execution_count": 6,
     "metadata": {},
     "output_type": "execute_result"
    }
   ],
   "source": [
    "np.median(income)"
   ]
  },
  {
   "cell_type": "code",
   "execution_count": 7,
   "metadata": {
    "collapsed": true
   },
   "outputs": [],
   "source": [
    "income = np.append(income, [10000000000])"
   ]
  },
  {
   "cell_type": "code",
   "execution_count": 8,
   "metadata": {
    "collapsed": false
   },
   "outputs": [
    {
     "data": {
      "text/plain": [
       "(26940.832575387441, 1026858.3231317722)"
      ]
     },
     "execution_count": 8,
     "metadata": {},
     "output_type": "execute_result"
    }
   ],
   "source": [
    "np.median(income),np.mean(income)"
   ]
  },
  {
   "cell_type": "code",
   "execution_count": 12,
   "metadata": {
    "collapsed": false
   },
   "outputs": [
    {
     "data": {
      "text/plain": [
       "array([66, 39, 67, 26, 72, 47, 27, 38, 33, 55, 48, 24, 20, 34, 43, 19, 85,\n",
       "       56, 27, 54, 53, 82, 53, 50, 79, 86, 19, 74, 46, 65, 20, 32, 60, 58,\n",
       "       44, 63, 71, 60, 60, 47, 78, 19, 19, 22, 81, 59, 67, 51, 54, 38, 31,\n",
       "       72, 87, 27, 50, 27, 61, 45, 50, 37, 20, 63, 24, 83, 50, 36, 61, 55,\n",
       "       36, 79, 22, 43, 45, 67, 75, 37, 57, 68, 33, 64, 67, 76, 83, 76, 87,\n",
       "       56, 76, 20, 73, 47, 84, 72, 23, 73, 80, 35, 75, 44, 55, 71, 32, 70,\n",
       "       71, 87, 78, 39, 56, 55, 19, 38, 34, 28, 36, 45, 21, 73, 35, 66, 55,\n",
       "       68, 83, 51, 55, 72, 57, 69, 44, 87, 63, 44, 65, 63, 49, 83, 51, 55,\n",
       "       27, 41, 62, 67, 47, 80, 31, 59, 81, 48, 47, 77, 23, 78, 35, 38, 65,\n",
       "       56, 62, 36, 27, 22, 40, 34, 24, 49, 78, 32, 64, 39, 21, 61, 34, 36,\n",
       "       34, 54, 33, 79, 46, 66, 36, 24, 55, 56, 61, 71, 29, 40, 88, 47, 42,\n",
       "       42, 81, 86, 22, 76, 40, 44, 65, 68, 53, 18, 80, 61, 34, 39, 60, 74,\n",
       "       34, 75, 47, 78, 74, 36, 44, 65, 67, 32, 39, 19, 48, 35, 25, 64, 20,\n",
       "       54, 68, 18, 77, 43, 83, 53, 52, 42, 49, 69, 48, 61, 52, 47, 57, 20,\n",
       "       36, 84, 22, 70, 58, 65, 72, 50, 50, 33, 26, 65, 81, 45, 72, 66, 56,\n",
       "       22, 61, 57, 42, 18, 48, 87, 86, 28, 70, 64, 62, 30, 50, 32, 63, 23,\n",
       "       54, 66, 72, 81, 51, 34, 44, 55, 74, 29, 24, 42, 37, 35, 75, 78, 63,\n",
       "       18, 50, 28, 31, 24, 61, 37, 72, 32, 43, 53, 36, 28, 58, 46, 21, 41,\n",
       "       21, 87, 85, 88, 30, 56, 82, 82, 26, 50, 30, 40, 20, 27, 32, 69, 55,\n",
       "       75, 86, 73, 46, 80, 42, 47, 51, 44, 33, 50, 88, 47, 24, 84, 71, 80,\n",
       "       19, 27, 31, 67, 79, 71, 51, 60, 34, 35, 73, 77, 45, 21, 76, 25, 58,\n",
       "       20, 75, 44, 27, 29, 38, 32, 49, 80, 43, 88, 42, 53, 34, 36, 50, 88,\n",
       "       75, 77, 71, 36, 32, 46, 76, 40, 55, 81, 80, 85, 58, 34, 59, 77, 43,\n",
       "       19, 66, 39, 69, 18, 84, 22, 20, 38, 24, 33, 72, 81, 36, 65, 56, 21,\n",
       "       56, 28, 28, 40, 82, 49, 21, 86, 20, 19, 76, 60, 25, 33, 82, 56, 43,\n",
       "       52, 50, 85, 51, 32, 67, 83, 25, 60, 84, 87, 51, 35, 62, 18, 19, 30,\n",
       "       23, 40, 59, 76, 76, 57, 40, 73, 78, 47, 79, 66, 22, 59, 51, 74, 71,\n",
       "       84, 28, 89, 39, 87, 39, 67, 49, 41, 85, 64, 18, 42, 42, 75, 28, 84,\n",
       "       20, 73, 75, 73, 44, 23, 67, 32, 61, 32, 63, 32, 34, 77, 71, 20, 62,\n",
       "       23, 87, 79, 40, 37, 51, 57])"
      ]
     },
     "execution_count": 12,
     "metadata": {},
     "output_type": "execute_result"
    }
   ],
   "source": [
    "ages = np.random.randint(18,high=90,size=500)\n",
    "ages"
   ]
  },
  {
   "cell_type": "code",
   "execution_count": 13,
   "metadata": {
    "collapsed": false
   },
   "outputs": [
    {
     "data": {
      "text/plain": [
       "ModeResult(mode=array([32]), count=array([13]))"
      ]
     },
     "execution_count": 13,
     "metadata": {},
     "output_type": "execute_result"
    }
   ],
   "source": [
    "from scipy import stats\n",
    "stats.mode(ages)"
   ]
  },
  {
   "cell_type": "code",
   "execution_count": null,
   "metadata": {
    "collapsed": true
   },
   "outputs": [],
   "source": []
  }
 ],
 "metadata": {
  "kernelspec": {
   "display_name": "Python 3",
   "language": "python",
   "name": "python3"
  },
  "language_info": {
   "codemirror_mode": {
    "name": "ipython",
    "version": 3
   },
   "file_extension": ".py",
   "mimetype": "text/x-python",
   "name": "python",
   "nbconvert_exporter": "python",
   "pygments_lexer": "ipython3",
   "version": "3.5.1"
  }
 },
 "nbformat": 4,
 "nbformat_minor": 0
}
